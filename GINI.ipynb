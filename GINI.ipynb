{
 "cells": [
  {
   "cell_type": "code",
   "execution_count": 2,
   "metadata": {},
   "outputs": [],
   "source": [
    "import pyreadstat\n",
    "import numpy as np\n",
    "import pandas as pd "
   ]
  },
  {
   "cell_type": "markdown",
   "metadata": {},
   "source": [
    "## คำนวณ GINI แบบปกติ "
   ]
  },
  {
   "cell_type": "code",
   "execution_count": 108,
   "metadata": {},
   "outputs": [],
   "source": [
    "ses2011 , meta = pyreadstat.read_sav('./SES11/rec1_11.sav')\n",
    "wt2011 , meta = pyreadstat.read_sav('./weight/weight11/weight11.sav')\n",
    "sesforGINI2011 = pd.merge(ses2011, wt2011, on=\"hhid\")\n",
    "\n",
    "ses2013 , meta = pyreadstat.read_sav('./SES13/rec1_13.sav')\n",
    "wt2013 , meta = pyreadstat.read_sav('./weight/weight13/weight13.sav')\n",
    "sesforGINI2013 = pd.merge(ses2013, wt2013, on=\"hhid\")"
   ]
  },
  {
   "cell_type": "code",
   "execution_count": 109,
   "metadata": {},
   "outputs": [],
   "source": [
    "## Code GINI (packed) ปี 2011 และ 2013\n",
    "## ต้องเชื่อม Weight POP ก่อน \n",
    "\n",
    "def gini (ses):\n",
    "    ses.a16[ses['a16'] < 0] = 0\n",
    "    ses = ses.sort_values(by=['a16'])\n",
    "    ses['total_weight'] = sum(ses.wt_pop)\n",
    "    ses['cumulative_weight'] = ses.wt_pop.cumsum()\n",
    "    ses['cden'] = ses.cumulative_weight/ses.total_weight\n",
    "    ses['Ybar'] = np.average(ses.a16, weights=ses.wt_pop)\n",
    "    ses['mcden'] = np.average(ses.cden, weights=ses.wt_pop)\n",
    "    gini = np.average(((ses.a16 - ses.Ybar)*(ses.cden - ses.mcden))/ses.Ybar, weights=ses.wt_pop)*2\n",
    "    return gini\n",
    "    \n",
    "gini_2011 = gini(sesforGINI2011)\n",
    "gini_2013 = gini(sesforGINI2013)"
   ]
  },
  {
   "cell_type": "code",
   "execution_count": 110,
   "metadata": {},
   "outputs": [],
   "source": [
    "#2015\n",
    "ses2015 , meta = pyreadstat.read_sav('./SES15/rec1_15.sav')\n",
    "ses2015 = ses2015.rename(columns = {'NEW_HH_N':'hhid'})\n",
    "\n",
    "wt2015 , meta = pyreadstat.read_sav('./weight/weight15/weight15.sav')\n",
    "sesforGINI2015 = pd.merge(ses2015, wt2015, on=\"hhid\")\n",
    "\n",
    "#2017\n",
    "ses2017 , meta = pyreadstat.read_sav('./SES17/rec1_17.sav')\n",
    "ses2017 = ses2017.rename(columns = {'NEW_HH_NO':'hhid'})\n",
    "\n",
    "wt2017 , meta = pyreadstat.read_sav('./weight/weight17/weight17.sav')\n",
    "sesforGINI2017 = pd.merge(ses2017, wt2017, on=\"hhid\")\n",
    "\n",
    "#2019\n",
    "ses2019 , meta = pyreadstat.read_sav('./SES19/REC1_19.sav')\n",
    "ses2019 = ses2019.rename(columns = {'NEW_HH_NO':'hhid'})\n",
    "\n",
    "wt2019 , meta = pyreadstat.read_sav('./weight/weight19/weight19.sav')\n",
    "sesforGINI2019 = pd.merge(ses2019, wt2019, on=\"hhid\")\n",
    "\n",
    "#2020\n",
    "ses2020 , meta = pyreadstat.read_sav('./SES20/ses2020q1234_record01 for TDRI.sav')\n",
    "ses2020 = ses2020.rename(columns = {'NEW_HH_NO':'hhid'})\n",
    "\n",
    "wt2020 , meta = pyreadstat.read_sav('./weight/weight20/wtpop2020.sav')\n",
    "sesforGINI2020 = pd.merge(ses2020, wt2020, on=\"hhid\")"
   ]
  },
  {
   "cell_type": "code",
   "execution_count": 111,
   "metadata": {},
   "outputs": [],
   "source": [
    "## Code GINI (packed) ตั้งแต่ปี 2015\n",
    "## ต้องเชื่อม Weight POP ก่อน \n",
    "\n",
    "def gini (ses):\n",
    "    ses.A16[ses['A16'] < 0] = 0\n",
    "    ses = ses.sort_values(by=['A16'])\n",
    "    ses['total_weight'] = sum(ses.wt_pop)\n",
    "    ses['cumulative_weight'] = ses.wt_pop.cumsum()\n",
    "    ses['cden'] = ses.cumulative_weight/ses.total_weight\n",
    "    ses['Ybar'] = np.average(ses.A16, weights=ses.wt_pop)\n",
    "    ses['mcden'] = np.average(ses.cden, weights=ses.wt_pop)\n",
    "    gini = np.average(((ses.A16 - ses.Ybar)*(ses.cden - ses.mcden))/ses.Ybar, weights=ses.wt_pop)*2\n",
    "    return gini\n",
    "    \n",
    "gini_2015 = gini(sesforGINI2015)\n",
    "gini_2017 = gini(sesforGINI2017)\n",
    "gini_2019 = gini(sesforGINI2019)"
   ]
  },
  {
   "cell_type": "code",
   "execution_count": 112,
   "metadata": {},
   "outputs": [
    {
     "data": {
      "text/plain": [
       "0.41172259482130413"
      ]
     },
     "execution_count": 112,
     "metadata": {},
     "output_type": "execute_result"
    }
   ],
   "source": [
    "## Code GINI (packed) ปี 2020\n",
    "## ต้องเชื่อม Weight POP ก่อน \n",
    "\n",
    "def gini (ses):\n",
    "    ses['b19'] = (ses.B18 - (ses.B15 + ses.B16 + ses.B10 + ses.B17))/ses.A04\n",
    "    ses.b19[ses['b19'] < 0] = 0\n",
    "    ses = ses.sort_values(by=['b19'])\n",
    "    ses['total_weight'] = sum(ses.wt_pop)\n",
    "    ses['cumulative_weight'] = ses.wt_pop.cumsum()\n",
    "    ses['cden'] = ses.cumulative_weight/ses.total_weight\n",
    "    ses['Ybar'] = np.average(ses.b19, weights=ses.wt_pop)\n",
    "    ses['mcden'] = np.average(ses.cden, weights=ses.wt_pop)\n",
    "    gini = np.average(((ses.b19 - ses.Ybar)*(ses.cden - ses.mcden))/ses.Ybar, weights=ses.wt_pop)*2\n",
    "    return gini\n",
    "\n",
    "gini_2020 = gini(sesforGINI2020)\n",
    "gini_2020"
   ]
  },
  {
   "cell_type": "code",
   "execution_count": 113,
   "metadata": {},
   "outputs": [
    {
     "data": {
      "text/html": [
       "<div>\n",
       "<style scoped>\n",
       "    .dataframe tbody tr th:only-of-type {\n",
       "        vertical-align: middle;\n",
       "    }\n",
       "\n",
       "    .dataframe tbody tr th {\n",
       "        vertical-align: top;\n",
       "    }\n",
       "\n",
       "    .dataframe thead th {\n",
       "        text-align: right;\n",
       "    }\n",
       "</style>\n",
       "<table border=\"1\" class=\"dataframe\">\n",
       "  <thead>\n",
       "    <tr style=\"text-align: right;\">\n",
       "      <th></th>\n",
       "      <th>Year</th>\n",
       "      <th>GINI</th>\n",
       "    </tr>\n",
       "  </thead>\n",
       "  <tbody>\n",
       "    <tr>\n",
       "      <th>0</th>\n",
       "      <td>2011</td>\n",
       "      <td>0.484275</td>\n",
       "    </tr>\n",
       "    <tr>\n",
       "      <th>1</th>\n",
       "      <td>2013</td>\n",
       "      <td>0.465364</td>\n",
       "    </tr>\n",
       "    <tr>\n",
       "      <th>2</th>\n",
       "      <td>2015</td>\n",
       "      <td>0.445134</td>\n",
       "    </tr>\n",
       "    <tr>\n",
       "      <th>3</th>\n",
       "      <td>2017</td>\n",
       "      <td>0.452756</td>\n",
       "    </tr>\n",
       "    <tr>\n",
       "      <th>4</th>\n",
       "      <td>2019</td>\n",
       "      <td>0.430109</td>\n",
       "    </tr>\n",
       "    <tr>\n",
       "      <th>5</th>\n",
       "      <td>2020</td>\n",
       "      <td>0.411723</td>\n",
       "    </tr>\n",
       "  </tbody>\n",
       "</table>\n",
       "</div>"
      ],
      "text/plain": [
       "   Year      GINI\n",
       "0  2011  0.484275\n",
       "1  2013  0.465364\n",
       "2  2015  0.445134\n",
       "3  2017  0.452756\n",
       "4  2019  0.430109\n",
       "5  2020  0.411723"
      ]
     },
     "execution_count": 113,
     "metadata": {},
     "output_type": "execute_result"
    }
   ],
   "source": [
    "d = {'Year': [2011, 2013, 2015, 2017 , 2019 , 2020], 'GINI': [gini_2011, gini_2013, gini_2015, gini_2017, gini_2019, gini_2020]}\n",
    "GINI = pd.DataFrame(data=d)\n",
    "GINI"
   ]
  },
  {
   "cell_type": "code",
   "execution_count": 115,
   "metadata": {},
   "outputs": [],
   "source": [
    "GINI.to_excel(\"GINI.xlsx\")"
   ]
  },
  {
   "cell_type": "code",
   "execution_count": 116,
   "metadata": {},
   "outputs": [],
   "source": [
    "## Decile \n",
    "\n",
    "from pandas._libs.lib import is_integer\n",
    "\n",
    "def weighted_qcut(values, weights, q, **kwargs):\n",
    "    'Return weighted quantile cuts from a given series, values.'\n",
    "    if is_integer(q):\n",
    "        quantiles = np.linspace(0, 1, q + 1)\n",
    "    else:\n",
    "        quantiles = q\n",
    "    order = weights.iloc[values.argsort()].cumsum()\n",
    "    bins = pd.cut(order / order.iloc[-1], quantiles, **kwargs)\n",
    "    return bins.sort_index()\n",
    "\n",
    "sesforGINI2011['Decile_by_income'] = weighted_qcut(sesforGINI2011['a16'], sesforGINI2011['wt_pop'], 10, labels=False)\n",
    "sesforGINI2013['Decile_by_income'] = weighted_qcut(sesforGINI2013['a16'], sesforGINI2013['wt_pop'], 10, labels=False)\n",
    "sesforGINI2015['Decile_by_income'] = weighted_qcut(sesforGINI2015['A16'], sesforGINI2015['wt_pop'], 10, labels=False)\n",
    "sesforGINI2017['Decile_by_income'] = weighted_qcut(sesforGINI2017['A16'], sesforGINI2017['wt_pop'], 10, labels=False)\n",
    "sesforGINI2019['Decile_by_income'] = weighted_qcut(sesforGINI2019['A16'], sesforGINI2019['wt_pop'], 10, labels=False)\n",
    "sesforGINI2020['Decile_by_income'] = weighted_qcut(sesforGINI2020['b19'], sesforGINI2020['wt_pop'], 10, labels=False)"
   ]
  },
  {
   "cell_type": "code",
   "execution_count": 117,
   "metadata": {},
   "outputs": [],
   "source": [
    "Income_Decile_2011 = pd.DataFrame(((sesforGINI2011.wt_pop*sesforGINI2011.a16).groupby(sesforGINI2011['Decile_by_income']).sum())/(sesforGINI2011.wt_pop.groupby(sesforGINI2011['Decile_by_income']).sum()))\n",
    "Income_Decile_2013 = pd.DataFrame(((sesforGINI2013.wt_pop*sesforGINI2013.a16).groupby(sesforGINI2013['Decile_by_income']).sum())/(sesforGINI2013.wt_pop.groupby(sesforGINI2013['Decile_by_income']).sum()))\n",
    "Income_Decile_2015 = pd.DataFrame(((sesforGINI2015.wt_pop*sesforGINI2015.A16).groupby(sesforGINI2015['Decile_by_income']).sum())/(sesforGINI2015.wt_pop.groupby(sesforGINI2015['Decile_by_income']).sum()))\n",
    "Income_Decile_2017 = pd.DataFrame(((sesforGINI2017.wt_pop*sesforGINI2017.A16).groupby(sesforGINI2017['Decile_by_income']).sum())/(sesforGINI2017.wt_pop.groupby(sesforGINI2017['Decile_by_income']).sum()))\n",
    "Income_Decile_2019 = pd.DataFrame(((sesforGINI2019.wt_pop*sesforGINI2019.A16).groupby(sesforGINI2019['Decile_by_income']).sum())/(sesforGINI2019.wt_pop.groupby(sesforGINI2019['Decile_by_income']).sum()))\n",
    "Income_Decile_2020 = pd.DataFrame(((sesforGINI2020.wt_pop*sesforGINI2020.b19).groupby(sesforGINI2020['Decile_by_income']).sum())/(sesforGINI2020.wt_pop.groupby(sesforGINI2020['Decile_by_income']).sum()))"
   ]
  },
  {
   "cell_type": "code",
   "execution_count": 118,
   "metadata": {},
   "outputs": [],
   "source": [
    "Income_Decile_2011_sum = pd.DataFrame(((sesforGINI2011.wt_pop*sesforGINI2011.a16).groupby(sesforGINI2011['Decile_by_income']).sum()))\n",
    "Income_Decile_2013_sum = pd.DataFrame(((sesforGINI2013.wt_pop*sesforGINI2013.a16).groupby(sesforGINI2013['Decile_by_income']).sum()))\n",
    "Income_Decile_2015_sum = pd.DataFrame(((sesforGINI2015.wt_pop*sesforGINI2015.A16).groupby(sesforGINI2015['Decile_by_income']).sum()))\n",
    "Income_Decile_2017_sum = pd.DataFrame(((sesforGINI2017.wt_pop*sesforGINI2017.A16).groupby(sesforGINI2017['Decile_by_income']).sum()))\n",
    "Income_Decile_2019_sum = pd.DataFrame(((sesforGINI2019.wt_pop*sesforGINI2019.A16).groupby(sesforGINI2019['Decile_by_income']).sum()))\n",
    "Income_Decile_2020_sum = pd.DataFrame(((sesforGINI2020.wt_pop*sesforGINI2020.b19).groupby(sesforGINI2020['Decile_by_income']).sum()))"
   ]
  },
  {
   "cell_type": "code",
   "execution_count": 119,
   "metadata": {},
   "outputs": [],
   "source": [
    "import xlsxwriter\n",
    "writer = pd.ExcelWriter('Income_Decile.xlsx', engine='xlsxwriter')\n",
    "\n",
    "# Write each dataframe to a different worksheet.\n",
    "Income_Decile_2011.to_excel(writer, sheet_name='2011')\n",
    "Income_Decile_2013.to_excel(writer, sheet_name='2013')\n",
    "Income_Decile_2015.to_excel(writer, sheet_name='2015')\n",
    "Income_Decile_2017.to_excel(writer, sheet_name='2017')\n",
    "Income_Decile_2019.to_excel(writer, sheet_name='2019')\n",
    "Income_Decile_2020.to_excel(writer, sheet_name='2020')\n",
    "# Close the Pandas Excel writer and output the Excel file.\n",
    "writer.save()"
   ]
  },
  {
   "cell_type": "code",
   "execution_count": 120,
   "metadata": {},
   "outputs": [],
   "source": [
    "writer = pd.ExcelWriter('Income_Decile_sum.xlsx', engine='xlsxwriter')\n",
    "\n",
    "# Write each dataframe to a different worksheet.\n",
    "Income_Decile_2011_sum.to_excel(writer, sheet_name='2011')\n",
    "Income_Decile_2013_sum.to_excel(writer, sheet_name='2013')\n",
    "Income_Decile_2015_sum.to_excel(writer, sheet_name='2015')\n",
    "Income_Decile_2017_sum.to_excel(writer, sheet_name='2017')\n",
    "Income_Decile_2019_sum.to_excel(writer, sheet_name='2019')\n",
    "Income_Decile_2020_sum.to_excel(writer, sheet_name='2020')\n",
    "# Close the Pandas Excel writer and output the Excel file.\n",
    "writer.save()"
   ]
  },
  {
   "cell_type": "markdown",
   "metadata": {},
   "source": [
    "## Gini แบบตัดเงินโอนภาครัฐ"
   ]
  },
  {
   "cell_type": "code",
   "execution_count": 121,
   "metadata": {},
   "outputs": [],
   "source": [
    "ses2011 , meta = pyreadstat.read_sav('./SES11/rec1_11.sav')\n",
    "wt2011 , meta = pyreadstat.read_sav('./weight/weight11/weight11.sav')\n",
    "sesforGINI2011 = pd.merge(ses2011, wt2011, on=\"hhid\")\n",
    "\n",
    "ses2013 , meta = pyreadstat.read_sav('./SES13/rec1_13.sav')\n",
    "wt2013 , meta = pyreadstat.read_sav('./weight/weight13/weight13.sav')\n",
    "sesforGINI2013 = pd.merge(ses2013, wt2013, on=\"hhid\")\n",
    "\n",
    "#2015\n",
    "ses2015 , meta = pyreadstat.read_sav('./SES15/rec1_15.sav')\n",
    "ses2015 = ses2015.rename(columns = {'NEW_HH_N':'hhid'})\n",
    "\n",
    "wt2015 , meta = pyreadstat.read_sav('./weight/weight15/weight15.sav')\n",
    "sesforGINI2015 = pd.merge(ses2015, wt2015, on=\"hhid\")\n",
    "\n",
    "#2017\n",
    "ses2017 , meta = pyreadstat.read_sav('./SES17/rec1_17.sav')\n",
    "ses2017 = ses2017.rename(columns = {'NEW_HH_NO':'hhid'})\n",
    "\n",
    "wt2017 , meta = pyreadstat.read_sav('./weight/weight17/weight17.sav')\n",
    "sesforGINI2017 = pd.merge(ses2017, wt2017, on=\"hhid\")\n",
    "\n",
    "#2019\n",
    "ses2019 , meta = pyreadstat.read_sav('./SES19/REC1_19.sav')\n",
    "ses2019 = ses2019.rename(columns = {'NEW_HH_NO':'hhid'})\n",
    "\n",
    "wt2019 , meta = pyreadstat.read_sav('./weight/weight19/weight19.sav')\n",
    "sesforGINI2019 = pd.merge(ses2019, wt2019, on=\"hhid\")\n",
    "\n",
    "#2020\n",
    "ses2020 , meta = pyreadstat.read_sav('./SES20/ses2020q1234_record01 for TDRI.sav')\n",
    "ses2020 = ses2020.rename(columns = {'NEW_HH_NO':'hhid'})\n",
    "\n",
    "wt2020 , meta = pyreadstat.read_sav('./weight/weight20/wtpop2020.sav')\n",
    "sesforGINI2020 = pd.merge(ses2020, wt2020, on=\"hhid\")"
   ]
  },
  {
   "cell_type": "code",
   "execution_count": 122,
   "metadata": {},
   "outputs": [],
   "source": [
    "## Code GINI (packed) ปี 2011 และ 2013 ตัดเงินโอนภาครัฐ\n",
    "## ต้องเชื่อม Weight POP ก่อน \n",
    "\n",
    "def gini (ses):\n",
    "    ses['a16'] = ses['a16'] - (ses['a30']/ses['a04'])\n",
    "    ses.a16[ses['a16'] < 0] = 0\n",
    "    ses = ses.sort_values(by=['a16'])\n",
    "    ses['total_weight'] = sum(ses.wt_pop)\n",
    "    ses['cumulative_weight'] = ses.wt_pop.cumsum()\n",
    "    ses['cden'] = ses.cumulative_weight/ses.total_weight\n",
    "    ses['Ybar'] = np.average(ses.a16, weights=ses.wt_pop)\n",
    "    ses['mcden'] = np.average(ses.cden, weights=ses.wt_pop)\n",
    "    gini = np.average(((ses.a16 - ses.Ybar)*(ses.cden - ses.mcden))/ses.Ybar, weights=ses.wt_pop)*2\n",
    "    return gini\n",
    "    \n",
    "gini_2011_nontransfer = gini(sesforGINI2011)\n",
    "gini_2013_nontransfer = gini(sesforGINI2013)"
   ]
  },
  {
   "cell_type": "code",
   "execution_count": 123,
   "metadata": {},
   "outputs": [],
   "source": [
    "## Code GINI (packed) ตั้งแต่ปี 2015 ตัดเงินโอนภาครัฐ\n",
    "## ต้องเชื่อม Weight POP ก่อน \n",
    "\n",
    "def gini (ses):\n",
    "    ses['A16'] = ses['A16'] - (ses['A30']/ses['A04'])\n",
    "    ses.A16[ses['A16'] < 0] = 0\n",
    "    ses = ses.sort_values(by=['A16'])\n",
    "    ses['total_weight'] = sum(ses.wt_pop)\n",
    "    ses['cumulative_weight'] = ses.wt_pop.cumsum()\n",
    "    ses['cden'] = ses.cumulative_weight/ses.total_weight\n",
    "    ses['Ybar'] = np.average(ses.A16, weights=ses.wt_pop)\n",
    "    ses['mcden'] = np.average(ses.cden, weights=ses.wt_pop)\n",
    "    gini = np.average(((ses.A16 - ses.Ybar)*(ses.cden - ses.mcden))/ses.Ybar, weights=ses.wt_pop)*2\n",
    "    return gini\n",
    "\n",
    "gini_2015_nontransfer = gini(sesforGINI2015)\n",
    "gini_2017_nontransfer = gini(sesforGINI2017)\n",
    "gini_2019_nontransfer = gini(sesforGINI2019)"
   ]
  },
  {
   "cell_type": "code",
   "execution_count": 124,
   "metadata": {},
   "outputs": [],
   "source": [
    "## Code GINI (packed) ปี 2020 ตัดเงินโอนภาครัฐ\n",
    "## ต้องเชื่อม Weight POP ก่อน \n",
    "\n",
    "def gini (ses):\n",
    "    ses['b19'] = (ses.B18 - (ses.B15 + ses.B16 + ses.B10 + ses.B17+ ses.B08))/ses.A04\n",
    "    ses.b19[ses['b19'] < 0] = 0\n",
    "    ses = ses.sort_values(by=['b19'])\n",
    "    ses['total_weight'] = sum(ses.wt_pop)\n",
    "    ses['cumulative_weight'] = ses.wt_pop.cumsum()\n",
    "    ses['cden'] = ses.cumulative_weight/ses.total_weight\n",
    "    ses['Ybar'] = np.average(ses.b19, weights=ses.wt_pop)\n",
    "    ses['mcden'] = np.average(ses.cden, weights=ses.wt_pop)\n",
    "    gini = np.average(((ses.b19 - ses.Ybar)*(ses.cden - ses.mcden))/ses.Ybar, weights=ses.wt_pop)*2\n",
    "    return gini\n",
    "\n",
    "gini_2020_nontransfer = gini(sesforGINI2020)"
   ]
  },
  {
   "cell_type": "code",
   "execution_count": 125,
   "metadata": {},
   "outputs": [
    {
     "data": {
      "text/html": [
       "<div>\n",
       "<style scoped>\n",
       "    .dataframe tbody tr th:only-of-type {\n",
       "        vertical-align: middle;\n",
       "    }\n",
       "\n",
       "    .dataframe tbody tr th {\n",
       "        vertical-align: top;\n",
       "    }\n",
       "\n",
       "    .dataframe thead th {\n",
       "        text-align: right;\n",
       "    }\n",
       "</style>\n",
       "<table border=\"1\" class=\"dataframe\">\n",
       "  <thead>\n",
       "    <tr style=\"text-align: right;\">\n",
       "      <th></th>\n",
       "      <th>Year</th>\n",
       "      <th>GINI</th>\n",
       "    </tr>\n",
       "  </thead>\n",
       "  <tbody>\n",
       "    <tr>\n",
       "      <th>0</th>\n",
       "      <td>2011</td>\n",
       "      <td>0.493275</td>\n",
       "    </tr>\n",
       "    <tr>\n",
       "      <th>1</th>\n",
       "      <td>2013</td>\n",
       "      <td>0.472980</td>\n",
       "    </tr>\n",
       "    <tr>\n",
       "      <th>2</th>\n",
       "      <td>2015</td>\n",
       "      <td>0.454666</td>\n",
       "    </tr>\n",
       "    <tr>\n",
       "      <th>3</th>\n",
       "      <td>2017</td>\n",
       "      <td>0.464563</td>\n",
       "    </tr>\n",
       "    <tr>\n",
       "      <th>4</th>\n",
       "      <td>2019</td>\n",
       "      <td>0.445235</td>\n",
       "    </tr>\n",
       "    <tr>\n",
       "      <th>5</th>\n",
       "      <td>2020</td>\n",
       "      <td>0.444788</td>\n",
       "    </tr>\n",
       "  </tbody>\n",
       "</table>\n",
       "</div>"
      ],
      "text/plain": [
       "   Year      GINI\n",
       "0  2011  0.493275\n",
       "1  2013  0.472980\n",
       "2  2015  0.454666\n",
       "3  2017  0.464563\n",
       "4  2019  0.445235\n",
       "5  2020  0.444788"
      ]
     },
     "execution_count": 125,
     "metadata": {},
     "output_type": "execute_result"
    }
   ],
   "source": [
    "d_nontransfer = {'Year': [2011, 2013, 2015, 2017 , 2019, 2020], \n",
    "                 'GINI': [gini_2011_nontransfer, gini_2013_nontransfer, gini_2015_nontransfer, gini_2017_nontransfer, gini_2019_nontransfer, gini_2020_nontransfer]}\n",
    "GINI_nontransfer = pd.DataFrame(data=d_nontransfer)\n",
    "GINI_nontransfer"
   ]
  },
  {
   "cell_type": "code",
   "execution_count": 126,
   "metadata": {},
   "outputs": [],
   "source": [
    "GINI_nontransfer.to_excel(\"GINI_nontransfer.xlsx\")"
   ]
  },
  {
   "cell_type": "code",
   "execution_count": 127,
   "metadata": {},
   "outputs": [],
   "source": [
    "sesforGINI2011['Decile_by_income'] = weighted_qcut(sesforGINI2011['a16'], sesforGINI2011['wt_pop'], 10, labels=False)\n",
    "sesforGINI2013['Decile_by_income'] = weighted_qcut(sesforGINI2013['a16'], sesforGINI2013['wt_pop'], 10, labels=False)\n",
    "sesforGINI2015['Decile_by_income'] = weighted_qcut(sesforGINI2015['A16'], sesforGINI2015['wt_pop'], 10, labels=False)\n",
    "sesforGINI2017['Decile_by_income'] = weighted_qcut(sesforGINI2017['A16'], sesforGINI2017['wt_pop'], 10, labels=False)\n",
    "sesforGINI2019['Decile_by_income'] = weighted_qcut(sesforGINI2019['A16'], sesforGINI2019['wt_pop'], 10, labels=False)\n",
    "sesforGINI2020['Decile_by_income'] = weighted_qcut(sesforGINI2020['b19'], sesforGINI2020['wt_pop'], 10, labels=False)"
   ]
  },
  {
   "cell_type": "code",
   "execution_count": 128,
   "metadata": {},
   "outputs": [],
   "source": [
    "Income_Decile_2011 = pd.DataFrame(((sesforGINI2011.wt_pop*sesforGINI2011.a16).groupby(sesforGINI2011['Decile_by_income']).sum())/(sesforGINI2011.wt_pop.groupby(sesforGINI2011['Decile_by_income']).sum()))\n",
    "Income_Decile_2013 = pd.DataFrame(((sesforGINI2013.wt_pop*sesforGINI2013.a16).groupby(sesforGINI2013['Decile_by_income']).sum())/(sesforGINI2013.wt_pop.groupby(sesforGINI2013['Decile_by_income']).sum()))\n",
    "Income_Decile_2015 = pd.DataFrame(((sesforGINI2015.wt_pop*sesforGINI2015.A16).groupby(sesforGINI2015['Decile_by_income']).sum())/(sesforGINI2015.wt_pop.groupby(sesforGINI2015['Decile_by_income']).sum()))\n",
    "Income_Decile_2017 = pd.DataFrame(((sesforGINI2017.wt_pop*sesforGINI2017.A16).groupby(sesforGINI2017['Decile_by_income']).sum())/(sesforGINI2017.wt_pop.groupby(sesforGINI2017['Decile_by_income']).sum()))\n",
    "Income_Decile_2019 = pd.DataFrame(((sesforGINI2019.wt_pop*sesforGINI2019.A16).groupby(sesforGINI2019['Decile_by_income']).sum())/(sesforGINI2019.wt_pop.groupby(sesforGINI2019['Decile_by_income']).sum()))\n",
    "Income_Decile_2020 = pd.DataFrame(((sesforGINI2020.wt_pop*sesforGINI2020.b19).groupby(sesforGINI2020['Decile_by_income']).sum())/(sesforGINI2020.wt_pop.groupby(sesforGINI2020['Decile_by_income']).sum()))"
   ]
  },
  {
   "cell_type": "code",
   "execution_count": 129,
   "metadata": {},
   "outputs": [],
   "source": [
    "Income_Decile_2011_sum = pd.DataFrame(((sesforGINI2011.wt_pop*sesforGINI2011.a16).groupby(sesforGINI2011['Decile_by_income']).sum()))\n",
    "Income_Decile_2013_sum = pd.DataFrame(((sesforGINI2013.wt_pop*sesforGINI2013.a16).groupby(sesforGINI2013['Decile_by_income']).sum()))\n",
    "Income_Decile_2015_sum = pd.DataFrame(((sesforGINI2015.wt_pop*sesforGINI2015.A16).groupby(sesforGINI2015['Decile_by_income']).sum()))\n",
    "Income_Decile_2017_sum = pd.DataFrame(((sesforGINI2017.wt_pop*sesforGINI2017.A16).groupby(sesforGINI2017['Decile_by_income']).sum()))\n",
    "Income_Decile_2019_sum = pd.DataFrame(((sesforGINI2019.wt_pop*sesforGINI2019.A16).groupby(sesforGINI2019['Decile_by_income']).sum()))\n",
    "Income_Decile_2020_sum = pd.DataFrame(((sesforGINI2020.wt_pop*sesforGINI2020.b19).groupby(sesforGINI2020['Decile_by_income']).sum()))"
   ]
  },
  {
   "cell_type": "code",
   "execution_count": 130,
   "metadata": {},
   "outputs": [],
   "source": [
    "writer = pd.ExcelWriter('Income_Decile_nontransfer.xlsx', engine='xlsxwriter')\n",
    "\n",
    "# Write each dataframe to a different worksheet.\n",
    "Income_Decile_2011.to_excel(writer, sheet_name='2011')\n",
    "Income_Decile_2013.to_excel(writer, sheet_name='2013')\n",
    "Income_Decile_2015.to_excel(writer, sheet_name='2015')\n",
    "Income_Decile_2017.to_excel(writer, sheet_name='2017')\n",
    "Income_Decile_2019.to_excel(writer, sheet_name='2019')\n",
    "Income_Decile_2020.to_excel(writer, sheet_name='2020')\n",
    "# Close the Pandas Excel writer and output the Excel file.\n",
    "writer.save()"
   ]
  },
  {
   "cell_type": "code",
   "execution_count": 131,
   "metadata": {},
   "outputs": [],
   "source": [
    "writer = pd.ExcelWriter('Income_Decile_nontransfer_sum.xlsx', engine='xlsxwriter')\n",
    "\n",
    "# Write each dataframe to a different worksheet.\n",
    "Income_Decile_2011_sum.to_excel(writer, sheet_name='2011')\n",
    "Income_Decile_2013_sum.to_excel(writer, sheet_name='2013')\n",
    "Income_Decile_2015_sum.to_excel(writer, sheet_name='2015')\n",
    "Income_Decile_2017_sum.to_excel(writer, sheet_name='2017')\n",
    "Income_Decile_2019_sum.to_excel(writer, sheet_name='2019')\n",
    "Income_Decile_2020_sum.to_excel(writer, sheet_name='2020')\n",
    "# Close the Pandas Excel writer and output the Excel file.\n",
    "writer.save()"
   ]
  }
 ],
 "metadata": {
  "kernelspec": {
   "display_name": "Python 3 (ipykernel)",
   "language": "python",
   "name": "python3"
  },
  "language_info": {
   "codemirror_mode": {
    "name": "ipython",
    "version": 3
   },
   "file_extension": ".py",
   "mimetype": "text/x-python",
   "name": "python",
   "nbconvert_exporter": "python",
   "pygments_lexer": "ipython3",
   "version": "3.10.9"
  }
 },
 "nbformat": 4,
 "nbformat_minor": 4
}
